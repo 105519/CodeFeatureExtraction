{
 "cells": [
  {
   "cell_type": "code",
   "execution_count": 1,
   "metadata": {},
   "outputs": [],
   "source": [
    "import os\n",
    "import json\n",
    "\n",
    "import random\n",
    "import numpy as np\n",
    "from tqdm import tqdm\n",
    "\n",
    "import torch\n",
    "import torch.nn as nn\n",
    "import torch.nn.functional as F\n",
    "from torch.utils.data import DataLoader, Dataset, RandomSampler\n",
    "\n",
    "from torch.nn import CrossEntropyLoss, MSELoss\n",
    "from sklearn.metrics import recall_score, precision_score, f1_score"
   ]
  },
  {
   "cell_type": "code",
   "execution_count": 2,
   "metadata": {},
   "outputs": [],
   "source": [
    "def get_dataset(file_name):\n",
    "    f = open(file_name, 'r')\n",
    "    data = json.load(fp = f)\n",
    "    f.close()\n",
    "\n",
    "    dataset = {}\n",
    "    for x, y in data:\n",
    "        if ((x not in dataset) and (y != -1)):\n",
    "            dataset[x] = y\n",
    "    return dataset\n",
    "\n",
    "posi_data = get_dataset('../data/deep-learning.jsonl')\n",
    "nega_data = get_dataset('../data/android.jsonl')"
   ]
  },
  {
   "cell_type": "code",
   "execution_count": 3,
   "metadata": {},
   "outputs": [],
   "source": [
    "posi_data = list(posi_data.values())\n",
    "nega_data = list(nega_data.values())\n",
    "dataset = [[x, 1] for x in posi_data] + [[x, 0] for x in nega_data]\n",
    "random.shuffle(dataset)"
   ]
  },
  {
   "cell_type": "code",
   "execution_count": 4,
   "metadata": {},
   "outputs": [],
   "source": [
    "class arguments(object):\n",
    "    def __init__(self):\n",
    "        pass\n",
    "args = arguments()"
   ]
  },
  {
   "cell_type": "code",
   "execution_count": 5,
   "metadata": {},
   "outputs": [],
   "source": [
    "args.epochs = 100\n",
    "args.batch_size = 4\n",
    "args.learning_rate = 1e-5\n",
    "args.dropout_rate = 0.1\n",
    "\n",
    "args.seed = 978438233\n",
    "args.device = torch.device(\"cuda\" if torch.cuda.is_available() else \"cpu\")\n",
    "args.n_gpu = torch.cuda.device_count()"
   ]
  },
  {
   "cell_type": "code",
   "execution_count": 6,
   "metadata": {},
   "outputs": [],
   "source": [
    "def set_seed():\n",
    "    random.seed(args.seed)\n",
    "    np.random.seed(args.seed)\n",
    "    torch.manual_seed(args.seed)\n",
    "    if args.n_gpu > 0:\n",
    "        torch.cuda.manual_seed_all(args.seed)\n",
    "set_seed()"
   ]
  },
  {
   "cell_type": "code",
   "execution_count": 7,
   "metadata": {},
   "outputs": [],
   "source": [
    "class TextDataset(Dataset):\n",
    "    def __init__(self, examples):\n",
    "        self.examples = examples\n",
    "        \n",
    "    def __len__(self):\n",
    "        return len(self.examples)\n",
    "        \n",
    "    def __getitem__(self, item):\n",
    "        x, y = self.examples[item]\n",
    "        return torch.tensor(x), torch.Tensor([y])\n",
    "\n",
    "\n",
    "train_data = TextDataset(dataset[: int(len(dataset) * 0.75)])\n",
    "train_sampler = RandomSampler(train_data)\n",
    "train_dataloader = DataLoader(train_data, sampler = train_sampler, drop_last = True,\n",
    "                              num_workers = 4, batch_size = args.batch_size)\n",
    "\n",
    "test_data = TextDataset(dataset[int(len(dataset) * 0.75) :])\n",
    "test_sampler = RandomSampler(test_data)\n",
    "test_dataloader = DataLoader(test_data, sampler = test_sampler, drop_last = False,\n",
    "                             num_workers = 4, batch_size = args.batch_size)"
   ]
  },
  {
   "cell_type": "code",
   "execution_count": 8,
   "metadata": {},
   "outputs": [],
   "source": [
    "class Model(nn.Module):\n",
    "    def __init__(self):\n",
    "        super(Model, self).__init__()\n",
    "        self.fc1 = nn.Linear(768, 768 * 4)\n",
    "        self.fc2 = nn.Linear(768 * 4, 768)\n",
    "        self.fc3 = nn.Linear(768, 2)\n",
    "        self.sigmoid = nn.Sigmoid()\n",
    "        self.dropout = nn.Dropout(args.dropout_rate)\n",
    "        \n",
    "    def forward(self, x, labels = None):\n",
    "        x = self.dropout(x)\n",
    "        x = F.relu(self.fc1(x))\n",
    "        x = self.dropout(x)\n",
    "        x = F.relu(self.fc2(x))\n",
    "        x = self.dropout(x)\n",
    "        x = self.fc3(x)\n",
    "        \n",
    "        x = F.softmax(x, dim = 1)[:, 1]\n",
    "        if (labels is None):\n",
    "            return x\n",
    "        else:\n",
    "            loss_function = MSELoss()\n",
    "            loss = loss_function(x.view(-1), labels.view(-1))\n",
    "            return loss"
   ]
  },
  {
   "cell_type": "code",
   "execution_count": 9,
   "metadata": {
    "scrolled": true
   },
   "outputs": [
    {
     "name": "stderr",
     "output_type": "stream",
     "text": [
      "epoch 0: 100%|███████████████████████████████| 829/829 [00:02<00:00, 343.25it/s]\n",
      "100%|████████████████████████████████████████| 277/277 [00:00<00:00, 745.89it/s]\n"
     ]
    },
    {
     "name": "stdout",
     "output_type": "stream",
     "text": [
      "TP FP TN FN = 551 246 271 38\n",
      "f1: 0.795093795093795\n",
      "recall: 0.9354838709677419\n",
      "precision: 0.6913425345043914\n"
     ]
    },
    {
     "name": "stderr",
     "output_type": "stream",
     "text": [
      "epoch 1: 100%|███████████████████████████████| 829/829 [00:01<00:00, 417.04it/s]\n",
      "100%|████████████████████████████████████████| 277/277 [00:00<00:00, 755.97it/s]\n"
     ]
    },
    {
     "name": "stdout",
     "output_type": "stream",
     "text": [
      "TP FP TN FN = 525 42 475 64\n",
      "f1: 0.9083044982698962\n",
      "recall: 0.8913412563667232\n",
      "precision: 0.9259259259259259\n"
     ]
    },
    {
     "name": "stderr",
     "output_type": "stream",
     "text": [
      "epoch 2: 100%|███████████████████████████████| 829/829 [00:01<00:00, 421.48it/s]\n",
      "100%|████████████████████████████████████████| 277/277 [00:00<00:00, 774.34it/s]\n"
     ]
    },
    {
     "name": "stdout",
     "output_type": "stream",
     "text": [
      "TP FP TN FN = 508 20 497 81\n",
      "f1: 0.9095792300805731\n",
      "recall: 0.8624787775891342\n",
      "precision: 0.9621212121212122\n"
     ]
    },
    {
     "name": "stderr",
     "output_type": "stream",
     "text": [
      "epoch 3: 100%|███████████████████████████████| 829/829 [00:02<00:00, 413.88it/s]\n",
      "100%|████████████████████████████████████████| 277/277 [00:00<00:00, 768.27it/s]\n"
     ]
    },
    {
     "name": "stdout",
     "output_type": "stream",
     "text": [
      "TP FP TN FN = 546 25 492 43\n",
      "f1: 0.9413793103448275\n",
      "recall: 0.9269949066213922\n",
      "precision: 0.9562171628721541\n"
     ]
    },
    {
     "name": "stderr",
     "output_type": "stream",
     "text": [
      "epoch 4: 100%|███████████████████████████████| 829/829 [00:01<00:00, 420.96it/s]\n",
      "100%|████████████████████████████████████████| 277/277 [00:00<00:00, 748.74it/s]\n"
     ]
    },
    {
     "name": "stdout",
     "output_type": "stream",
     "text": [
      "TP FP TN FN = 505 13 504 84\n",
      "f1: 0.9123757904245708\n",
      "recall: 0.8573853989813243\n",
      "precision: 0.974903474903475\n"
     ]
    },
    {
     "name": "stderr",
     "output_type": "stream",
     "text": [
      "epoch 5: 100%|███████████████████████████████| 829/829 [00:01<00:00, 423.90it/s]\n",
      "100%|████████████████████████████████████████| 277/277 [00:00<00:00, 759.80it/s]\n"
     ]
    },
    {
     "name": "stdout",
     "output_type": "stream",
     "text": [
      "TP FP TN FN = 542 23 494 47\n",
      "f1: 0.9393414211438474\n",
      "recall: 0.9202037351443124\n",
      "precision: 0.95929203539823\n"
     ]
    },
    {
     "name": "stderr",
     "output_type": "stream",
     "text": [
      "epoch 6: 100%|███████████████████████████████| 829/829 [00:01<00:00, 415.57it/s]\n",
      "100%|████████████████████████████████████████| 277/277 [00:00<00:00, 727.95it/s]\n"
     ]
    },
    {
     "name": "stdout",
     "output_type": "stream",
     "text": [
      "TP FP TN FN = 553 28 489 36\n",
      "f1: 0.9452991452991453\n",
      "recall: 0.9388794567062818\n",
      "precision: 0.9518072289156626\n"
     ]
    },
    {
     "name": "stderr",
     "output_type": "stream",
     "text": [
      "epoch 7: 100%|███████████████████████████████| 829/829 [00:01<00:00, 415.24it/s]\n",
      "100%|████████████████████████████████████████| 277/277 [00:00<00:00, 781.56it/s]\n"
     ]
    },
    {
     "name": "stdout",
     "output_type": "stream",
     "text": [
      "TP FP TN FN = 533 17 500 56\n",
      "f1: 0.9359086918349429\n",
      "recall: 0.9049235993208828\n",
      "precision: 0.9690909090909091\n"
     ]
    },
    {
     "name": "stderr",
     "output_type": "stream",
     "text": [
      "epoch 8: 100%|███████████████████████████████| 829/829 [00:02<00:00, 407.90it/s]\n",
      "100%|████████████████████████████████████████| 277/277 [00:00<00:00, 772.66it/s]\n"
     ]
    },
    {
     "name": "stdout",
     "output_type": "stream",
     "text": [
      "TP FP TN FN = 536 17 500 53\n",
      "f1: 0.9387040280210157\n",
      "recall: 0.9100169779286927\n",
      "precision: 0.969258589511754\n"
     ]
    },
    {
     "name": "stderr",
     "output_type": "stream",
     "text": [
      "epoch 9: 100%|███████████████████████████████| 829/829 [00:01<00:00, 418.91it/s]\n",
      "100%|████████████████████████████████████████| 277/277 [00:00<00:00, 742.51it/s]\n"
     ]
    },
    {
     "name": "stdout",
     "output_type": "stream",
     "text": [
      "TP FP TN FN = 523 12 505 66\n",
      "f1: 0.9306049822064058\n",
      "recall: 0.8879456706281834\n",
      "precision: 0.9775700934579439\n"
     ]
    },
    {
     "name": "stderr",
     "output_type": "stream",
     "text": [
      "epoch 10: 100%|██████████████████████████████| 829/829 [00:02<00:00, 409.32it/s]\n",
      "100%|████████████████████████████████████████| 277/277 [00:00<00:00, 753.90it/s]\n"
     ]
    },
    {
     "name": "stdout",
     "output_type": "stream",
     "text": [
      "TP FP TN FN = 546 19 498 43\n",
      "f1: 0.9462738301559792\n",
      "recall: 0.9269949066213922\n",
      "precision: 0.9663716814159292\n"
     ]
    },
    {
     "name": "stderr",
     "output_type": "stream",
     "text": [
      "epoch 11: 100%|██████████████████████████████| 829/829 [00:01<00:00, 424.36it/s]\n",
      "100%|████████████████████████████████████████| 277/277 [00:00<00:00, 737.31it/s]\n"
     ]
    },
    {
     "name": "stdout",
     "output_type": "stream",
     "text": [
      "TP FP TN FN = 561 38 479 28\n",
      "f1: 0.9444444444444445\n",
      "recall: 0.9524617996604414\n",
      "precision: 0.9365609348914858\n"
     ]
    },
    {
     "name": "stderr",
     "output_type": "stream",
     "text": [
      "epoch 12: 100%|██████████████████████████████| 829/829 [00:01<00:00, 424.09it/s]\n",
      "100%|████████████████████████████████████████| 277/277 [00:00<00:00, 755.64it/s]\n"
     ]
    },
    {
     "name": "stdout",
     "output_type": "stream",
     "text": [
      "TP FP TN FN = 535 16 501 54\n",
      "f1: 0.9385964912280702\n",
      "recall: 0.9083191850594228\n",
      "precision: 0.9709618874773139\n"
     ]
    },
    {
     "name": "stderr",
     "output_type": "stream",
     "text": [
      "epoch 13: 100%|██████████████████████████████| 829/829 [00:01<00:00, 422.79it/s]\n",
      "100%|████████████████████████████████████████| 277/277 [00:00<00:00, 767.60it/s]\n"
     ]
    },
    {
     "name": "stdout",
     "output_type": "stream",
     "text": [
      "TP FP TN FN = 548 19 498 41\n",
      "f1: 0.9480968858131487\n",
      "recall: 0.9303904923599321\n",
      "precision: 0.9664902998236331\n"
     ]
    },
    {
     "name": "stderr",
     "output_type": "stream",
     "text": [
      "epoch 14: 100%|██████████████████████████████| 829/829 [00:01<00:00, 433.01it/s]\n",
      "100%|████████████████████████████████████████| 277/277 [00:00<00:00, 756.09it/s]\n"
     ]
    },
    {
     "name": "stdout",
     "output_type": "stream",
     "text": [
      "TP FP TN FN = 524 11 506 65\n",
      "f1: 0.9323843416370106\n",
      "recall: 0.8896434634974533\n",
      "precision: 0.9794392523364486\n"
     ]
    },
    {
     "name": "stderr",
     "output_type": "stream",
     "text": [
      "epoch 15: 100%|██████████████████████████████| 829/829 [00:01<00:00, 427.91it/s]\n",
      "100%|████████████████████████████████████████| 277/277 [00:00<00:00, 775.68it/s]\n"
     ]
    },
    {
     "name": "stdout",
     "output_type": "stream",
     "text": [
      "TP FP TN FN = 536 12 505 53\n",
      "f1: 0.9428320140721197\n",
      "recall: 0.9100169779286927\n",
      "precision: 0.9781021897810219\n"
     ]
    },
    {
     "name": "stderr",
     "output_type": "stream",
     "text": [
      "epoch 16: 100%|██████████████████████████████| 829/829 [00:01<00:00, 433.60it/s]\n",
      "100%|████████████████████████████████████████| 277/277 [00:00<00:00, 764.57it/s]\n"
     ]
    },
    {
     "name": "stdout",
     "output_type": "stream",
     "text": [
      "TP FP TN FN = 541 16 501 48\n",
      "f1: 0.9441535776614312\n",
      "recall: 0.9185059422750425\n",
      "precision: 0.9712746858168761\n"
     ]
    },
    {
     "name": "stderr",
     "output_type": "stream",
     "text": [
      "epoch 17: 100%|██████████████████████████████| 829/829 [00:01<00:00, 444.25it/s]\n",
      "100%|████████████████████████████████████████| 277/277 [00:00<00:00, 752.07it/s]\n"
     ]
    },
    {
     "name": "stdout",
     "output_type": "stream",
     "text": [
      "TP FP TN FN = 545 17 500 44\n",
      "f1: 0.947002606429192\n",
      "recall: 0.9252971137521222\n",
      "precision: 0.9697508896797153\n"
     ]
    },
    {
     "name": "stderr",
     "output_type": "stream",
     "text": [
      "epoch 18: 100%|██████████████████████████████| 829/829 [00:01<00:00, 441.52it/s]\n",
      "100%|████████████████████████████████████████| 277/277 [00:00<00:00, 750.30it/s]\n"
     ]
    },
    {
     "name": "stdout",
     "output_type": "stream",
     "text": [
      "TP FP TN FN = 555 27 490 34\n",
      "f1: 0.9479077711357814\n",
      "recall: 0.9422750424448217\n",
      "precision: 0.9536082474226805\n"
     ]
    },
    {
     "name": "stderr",
     "output_type": "stream",
     "text": [
      "epoch 19: 100%|██████████████████████████████| 829/829 [00:02<00:00, 410.15it/s]\n",
      "100%|████████████████████████████████████████| 277/277 [00:00<00:00, 770.40it/s]\n"
     ]
    },
    {
     "name": "stdout",
     "output_type": "stream",
     "text": [
      "TP FP TN FN = 556 28 489 33\n",
      "f1: 0.947996589940324\n",
      "recall: 0.9439728353140917\n",
      "precision: 0.952054794520548\n"
     ]
    },
    {
     "name": "stderr",
     "output_type": "stream",
     "text": [
      "epoch 20: 100%|██████████████████████████████| 829/829 [00:01<00:00, 420.82it/s]\n",
      "100%|████████████████████████████████████████| 277/277 [00:00<00:00, 747.41it/s]\n"
     ]
    },
    {
     "name": "stdout",
     "output_type": "stream",
     "text": [
      "TP FP TN FN = 555 29 488 34\n",
      "f1: 0.9462915601023018\n",
      "recall: 0.9422750424448217\n",
      "precision: 0.9503424657534246\n"
     ]
    },
    {
     "name": "stderr",
     "output_type": "stream",
     "text": [
      "epoch 21: 100%|██████████████████████████████| 829/829 [00:01<00:00, 414.96it/s]\n",
      "100%|████████████████████████████████████████| 277/277 [00:00<00:00, 737.37it/s]\n"
     ]
    },
    {
     "name": "stdout",
     "output_type": "stream",
     "text": [
      "TP FP TN FN = 552 20 497 37\n",
      "f1: 0.9509043927648578\n",
      "recall: 0.9371816638370118\n",
      "precision: 0.965034965034965\n"
     ]
    },
    {
     "name": "stderr",
     "output_type": "stream",
     "text": [
      "epoch 22: 100%|██████████████████████████████| 829/829 [00:01<00:00, 429.40it/s]\n",
      "100%|████████████████████████████████████████| 277/277 [00:00<00:00, 764.78it/s]\n"
     ]
    },
    {
     "name": "stdout",
     "output_type": "stream",
     "text": [
      "TP FP TN FN = 554 18 499 35\n",
      "f1: 0.954349698535745\n",
      "recall: 0.9405772495755518\n",
      "precision: 0.9685314685314685\n"
     ]
    },
    {
     "name": "stderr",
     "output_type": "stream",
     "text": [
      "epoch 23: 100%|██████████████████████████████| 829/829 [00:01<00:00, 415.55it/s]\n",
      "100%|████████████████████████████████████████| 277/277 [00:00<00:00, 758.79it/s]\n"
     ]
    },
    {
     "name": "stdout",
     "output_type": "stream",
     "text": [
      "TP FP TN FN = 524 8 509 65\n",
      "f1: 0.9348795718108831\n",
      "recall: 0.8896434634974533\n",
      "precision: 0.9849624060150376\n"
     ]
    },
    {
     "name": "stderr",
     "output_type": "stream",
     "text": [
      "epoch 24: 100%|██████████████████████████████| 829/829 [00:01<00:00, 429.90it/s]\n",
      "100%|████████████████████████████████████████| 277/277 [00:00<00:00, 756.92it/s]\n"
     ]
    },
    {
     "name": "stdout",
     "output_type": "stream",
     "text": [
      "TP FP TN FN = 545 15 502 44\n",
      "f1: 0.948651000870322\n",
      "recall: 0.9252971137521222\n",
      "precision: 0.9732142857142857\n"
     ]
    },
    {
     "name": "stderr",
     "output_type": "stream",
     "text": [
      "epoch 25: 100%|██████████████████████████████| 829/829 [00:02<00:00, 406.16it/s]\n",
      "100%|████████████████████████████████████████| 277/277 [00:00<00:00, 743.33it/s]\n"
     ]
    },
    {
     "name": "stdout",
     "output_type": "stream",
     "text": [
      "TP FP TN FN = 533 8 509 56\n",
      "f1: 0.9433628318584071\n",
      "recall: 0.9049235993208828\n",
      "precision: 0.9852125693160814\n"
     ]
    },
    {
     "name": "stderr",
     "output_type": "stream",
     "text": [
      "epoch 26: 100%|██████████████████████████████| 829/829 [00:01<00:00, 433.25it/s]\n",
      "100%|████████████████████████████████████████| 277/277 [00:00<00:00, 740.71it/s]\n"
     ]
    },
    {
     "name": "stdout",
     "output_type": "stream",
     "text": [
      "TP FP TN FN = 547 15 502 42\n",
      "f1: 0.9504778453518681\n",
      "recall: 0.9286926994906621\n",
      "precision: 0.9733096085409253\n"
     ]
    },
    {
     "name": "stderr",
     "output_type": "stream",
     "text": [
      "epoch 27: 100%|██████████████████████████████| 829/829 [00:02<00:00, 413.51it/s]\n",
      "100%|████████████████████████████████████████| 277/277 [00:00<00:00, 779.11it/s]\n"
     ]
    },
    {
     "name": "stdout",
     "output_type": "stream",
     "text": [
      "TP FP TN FN = 557 26 491 32\n",
      "f1: 0.9505119453924915\n",
      "recall: 0.9456706281833617\n",
      "precision: 0.9554030874785592\n"
     ]
    },
    {
     "name": "stderr",
     "output_type": "stream",
     "text": [
      "epoch 28: 100%|██████████████████████████████| 829/829 [00:01<00:00, 427.11it/s]\n",
      "100%|████████████████████████████████████████| 277/277 [00:00<00:00, 774.74it/s]\n"
     ]
    },
    {
     "name": "stdout",
     "output_type": "stream",
     "text": [
      "TP FP TN FN = 542 15 502 47\n",
      "f1: 0.9458987783595114\n",
      "recall: 0.9202037351443124\n",
      "precision: 0.9730700179533214\n"
     ]
    },
    {
     "name": "stderr",
     "output_type": "stream",
     "text": [
      "epoch 29: 100%|██████████████████████████████| 829/829 [00:01<00:00, 415.74it/s]\n",
      "100%|████████████████████████████████████████| 277/277 [00:00<00:00, 656.74it/s]\n"
     ]
    },
    {
     "name": "stdout",
     "output_type": "stream",
     "text": [
      "TP FP TN FN = 544 15 502 45\n",
      "f1: 0.9477351916376306\n",
      "recall: 0.9235993208828522\n",
      "precision: 0.9731663685152058\n"
     ]
    },
    {
     "name": "stderr",
     "output_type": "stream",
     "text": [
      "epoch 30: 100%|██████████████████████████████| 829/829 [00:01<00:00, 428.70it/s]\n",
      "100%|████████████████████████████████████████| 277/277 [00:00<00:00, 744.60it/s]\n"
     ]
    },
    {
     "name": "stdout",
     "output_type": "stream",
     "text": [
      "TP FP TN FN = 547 15 502 42\n",
      "f1: 0.9504778453518681\n",
      "recall: 0.9286926994906621\n",
      "precision: 0.9733096085409253\n"
     ]
    },
    {
     "name": "stderr",
     "output_type": "stream",
     "text": [
      "epoch 31: 100%|██████████████████████████████| 829/829 [00:02<00:00, 414.02it/s]\n",
      "100%|████████████████████████████████████████| 277/277 [00:00<00:00, 763.15it/s]\n"
     ]
    },
    {
     "name": "stdout",
     "output_type": "stream",
     "text": [
      "TP FP TN FN = 523 8 509 66\n",
      "f1: 0.9339285714285716\n",
      "recall: 0.8879456706281834\n",
      "precision: 0.9849340866290018\n"
     ]
    },
    {
     "name": "stderr",
     "output_type": "stream",
     "text": [
      "epoch 32: 100%|██████████████████████████████| 829/829 [00:01<00:00, 423.16it/s]\n",
      "100%|████████████████████████████████████████| 277/277 [00:00<00:00, 748.50it/s]\n"
     ]
    },
    {
     "name": "stdout",
     "output_type": "stream",
     "text": [
      "TP FP TN FN = 550 15 502 39\n",
      "f1: 0.953206239168111\n",
      "recall: 0.933786078098472\n",
      "precision: 0.9734513274336283\n"
     ]
    },
    {
     "name": "stderr",
     "output_type": "stream",
     "text": [
      "epoch 33: 100%|██████████████████████████████| 829/829 [00:01<00:00, 434.22it/s]\n",
      "100%|████████████████████████████████████████| 277/277 [00:00<00:00, 760.04it/s]\n"
     ]
    },
    {
     "name": "stdout",
     "output_type": "stream",
     "text": [
      "TP FP TN FN = 563 42 475 26\n",
      "f1: 0.9430485762144053\n",
      "recall: 0.9558573853989814\n",
      "precision: 0.9305785123966942\n"
     ]
    },
    {
     "name": "stderr",
     "output_type": "stream",
     "text": [
      "epoch 34: 100%|██████████████████████████████| 829/829 [00:01<00:00, 423.94it/s]\n",
      "100%|████████████████████████████████████████| 277/277 [00:00<00:00, 777.30it/s]\n"
     ]
    },
    {
     "name": "stdout",
     "output_type": "stream",
     "text": [
      "TP FP TN FN = 552 15 502 37\n",
      "f1: 0.9550173010380623\n",
      "recall: 0.9371816638370118\n",
      "precision: 0.9735449735449735\n"
     ]
    },
    {
     "name": "stderr",
     "output_type": "stream",
     "text": [
      "epoch 35: 100%|██████████████████████████████| 829/829 [00:02<00:00, 414.10it/s]\n",
      "100%|████████████████████████████████████████| 277/277 [00:00<00:00, 739.88it/s]\n"
     ]
    },
    {
     "name": "stdout",
     "output_type": "stream",
     "text": [
      "TP FP TN FN = 556 22 495 33\n",
      "f1: 0.9528706083976006\n",
      "recall: 0.9439728353140917\n",
      "precision: 0.9619377162629758\n"
     ]
    },
    {
     "name": "stderr",
     "output_type": "stream",
     "text": [
      "epoch 36: 100%|██████████████████████████████| 829/829 [00:02<00:00, 412.39it/s]\n",
      "100%|████████████████████████████████████████| 277/277 [00:00<00:00, 757.19it/s]\n"
     ]
    },
    {
     "name": "stdout",
     "output_type": "stream",
     "text": [
      "TP FP TN FN = 562 32 485 27\n",
      "f1: 0.9501267962806423\n",
      "recall: 0.9541595925297114\n",
      "precision: 0.9461279461279462\n"
     ]
    },
    {
     "name": "stderr",
     "output_type": "stream",
     "text": [
      "epoch 37: 100%|██████████████████████████████| 829/829 [00:01<00:00, 415.25it/s]\n",
      "100%|████████████████████████████████████████| 277/277 [00:00<00:00, 748.68it/s]\n"
     ]
    },
    {
     "name": "stdout",
     "output_type": "stream",
     "text": [
      "TP FP TN FN = 547 15 502 42\n",
      "f1: 0.9504778453518681\n",
      "recall: 0.9286926994906621\n",
      "precision: 0.9733096085409253\n"
     ]
    },
    {
     "name": "stderr",
     "output_type": "stream",
     "text": [
      "epoch 38: 100%|██████████████████████████████| 829/829 [00:01<00:00, 424.15it/s]\n",
      "100%|████████████████████████████████████████| 277/277 [00:00<00:00, 749.66it/s]\n"
     ]
    },
    {
     "name": "stdout",
     "output_type": "stream",
     "text": [
      "TP FP TN FN = 540 12 505 49\n",
      "f1: 0.9465381244522348\n",
      "recall: 0.9168081494057725\n",
      "precision: 0.9782608695652174\n"
     ]
    },
    {
     "name": "stderr",
     "output_type": "stream",
     "text": [
      "epoch 39: 100%|██████████████████████████████| 829/829 [00:01<00:00, 427.55it/s]\n",
      "100%|████████████████████████████████████████| 277/277 [00:00<00:00, 733.04it/s]\n"
     ]
    },
    {
     "name": "stdout",
     "output_type": "stream",
     "text": [
      "TP FP TN FN = 556 18 499 33\n",
      "f1: 0.9561478933791917\n",
      "recall: 0.9439728353140917\n",
      "precision: 0.9686411149825784\n"
     ]
    },
    {
     "name": "stderr",
     "output_type": "stream",
     "text": [
      "epoch 40: 100%|██████████████████████████████| 829/829 [00:02<00:00, 408.96it/s]\n",
      "100%|████████████████████████████████████████| 277/277 [00:00<00:00, 751.46it/s]\n"
     ]
    },
    {
     "name": "stdout",
     "output_type": "stream",
     "text": [
      "TP FP TN FN = 562 37 480 27\n",
      "f1: 0.9461279461279462\n",
      "recall: 0.9541595925297114\n",
      "precision: 0.9382303839732888\n"
     ]
    },
    {
     "name": "stderr",
     "output_type": "stream",
     "text": [
      "epoch 41: 100%|██████████████████████████████| 829/829 [00:01<00:00, 424.42it/s]\n",
      "100%|████████████████████████████████████████| 277/277 [00:00<00:00, 742.75it/s]\n"
     ]
    },
    {
     "name": "stdout",
     "output_type": "stream",
     "text": [
      "TP FP TN FN = 540 11 506 49\n",
      "f1: 0.9473684210526315\n",
      "recall: 0.9168081494057725\n",
      "precision: 0.9800362976406534\n"
     ]
    },
    {
     "name": "stderr",
     "output_type": "stream",
     "text": [
      "epoch 42: 100%|██████████████████████████████| 829/829 [00:01<00:00, 418.68it/s]\n",
      "100%|████████████████████████████████████████| 277/277 [00:00<00:00, 747.86it/s]\n"
     ]
    },
    {
     "name": "stdout",
     "output_type": "stream",
     "text": [
      "TP FP TN FN = 535 8 509 54\n",
      "f1: 0.9452296819787985\n",
      "recall: 0.9083191850594228\n",
      "precision: 0.9852670349907919\n"
     ]
    },
    {
     "name": "stderr",
     "output_type": "stream",
     "text": [
      "epoch 43: 100%|██████████████████████████████| 829/829 [00:02<00:00, 406.69it/s]\n",
      "100%|████████████████████████████████████████| 277/277 [00:00<00:00, 761.83it/s]\n"
     ]
    },
    {
     "name": "stdout",
     "output_type": "stream",
     "text": [
      "TP FP TN FN = 556 21 496 33\n",
      "f1: 0.95368782161235\n",
      "recall: 0.9439728353140917\n",
      "precision: 0.9636048526863085\n"
     ]
    },
    {
     "name": "stderr",
     "output_type": "stream",
     "text": [
      "epoch 44: 100%|██████████████████████████████| 829/829 [00:02<00:00, 413.57it/s]\n",
      "100%|████████████████████████████████████████| 277/277 [00:00<00:00, 746.80it/s]\n"
     ]
    },
    {
     "name": "stdout",
     "output_type": "stream",
     "text": [
      "TP FP TN FN = 550 15 502 39\n",
      "f1: 0.953206239168111\n",
      "recall: 0.933786078098472\n",
      "precision: 0.9734513274336283\n"
     ]
    },
    {
     "name": "stderr",
     "output_type": "stream",
     "text": [
      "epoch 45: 100%|██████████████████████████████| 829/829 [00:01<00:00, 421.53it/s]\n",
      "100%|████████████████████████████████████████| 277/277 [00:00<00:00, 750.34it/s]\n"
     ]
    },
    {
     "name": "stdout",
     "output_type": "stream",
     "text": [
      "TP FP TN FN = 540 10 507 49\n",
      "f1: 0.9482001755926251\n",
      "recall: 0.9168081494057725\n",
      "precision: 0.9818181818181818\n"
     ]
    },
    {
     "name": "stderr",
     "output_type": "stream",
     "text": [
      "epoch 46: 100%|██████████████████████████████| 829/829 [00:01<00:00, 414.50it/s]\n",
      "100%|████████████████████████████████████████| 277/277 [00:00<00:00, 788.09it/s]\n"
     ]
    },
    {
     "name": "stdout",
     "output_type": "stream",
     "text": [
      "TP FP TN FN = 550 15 502 39\n",
      "f1: 0.953206239168111\n",
      "recall: 0.933786078098472\n",
      "precision: 0.9734513274336283\n"
     ]
    },
    {
     "name": "stderr",
     "output_type": "stream",
     "text": [
      "epoch 47: 100%|██████████████████████████████| 829/829 [00:01<00:00, 430.52it/s]\n",
      "100%|████████████████████████████████████████| 277/277 [00:00<00:00, 781.79it/s]\n"
     ]
    },
    {
     "name": "stdout",
     "output_type": "stream",
     "text": [
      "TP FP TN FN = 539 10 507 50\n",
      "f1: 0.9472759226713532\n",
      "recall: 0.9151103565365025\n",
      "precision: 0.9817850637522769\n"
     ]
    },
    {
     "name": "stderr",
     "output_type": "stream",
     "text": [
      "epoch 48: 100%|██████████████████████████████| 829/829 [00:02<00:00, 412.50it/s]\n",
      "100%|████████████████████████████████████████| 277/277 [00:00<00:00, 739.05it/s]\n"
     ]
    },
    {
     "name": "stdout",
     "output_type": "stream",
     "text": [
      "TP FP TN FN = 538 9 508 51\n",
      "f1: 0.9471830985915493\n",
      "recall: 0.9134125636672326\n",
      "precision: 0.9835466179159049\n"
     ]
    },
    {
     "name": "stderr",
     "output_type": "stream",
     "text": [
      "epoch 49: 100%|██████████████████████████████| 829/829 [00:01<00:00, 414.85it/s]\n",
      "100%|████████████████████████████████████████| 277/277 [00:00<00:00, 735.18it/s]\n"
     ]
    },
    {
     "name": "stdout",
     "output_type": "stream",
     "text": [
      "TP FP TN FN = 545 14 503 44\n",
      "f1: 0.9494773519163763\n",
      "recall: 0.9252971137521222\n",
      "precision: 0.9749552772808586\n"
     ]
    },
    {
     "name": "stderr",
     "output_type": "stream",
     "text": [
      "epoch 50: 100%|██████████████████████████████| 829/829 [00:01<00:00, 422.99it/s]\n",
      "100%|████████████████████████████████████████| 277/277 [00:00<00:00, 740.31it/s]\n"
     ]
    },
    {
     "name": "stdout",
     "output_type": "stream",
     "text": [
      "TP FP TN FN = 550 14 503 39\n",
      "f1: 0.9540329575021683\n",
      "recall: 0.933786078098472\n",
      "precision: 0.975177304964539\n"
     ]
    },
    {
     "name": "stderr",
     "output_type": "stream",
     "text": [
      "epoch 51: 100%|██████████████████████████████| 829/829 [00:01<00:00, 423.71it/s]\n",
      "100%|████████████████████████████████████████| 277/277 [00:00<00:00, 752.36it/s]\n"
     ]
    },
    {
     "name": "stdout",
     "output_type": "stream",
     "text": [
      "TP FP TN FN = 525 8 509 64\n",
      "f1: 0.9358288770053477\n",
      "recall: 0.8913412563667232\n",
      "precision: 0.9849906191369606\n"
     ]
    },
    {
     "name": "stderr",
     "output_type": "stream",
     "text": [
      "epoch 52: 100%|██████████████████████████████| 829/829 [00:02<00:00, 398.44it/s]\n",
      "100%|████████████████████████████████████████| 277/277 [00:00<00:00, 751.89it/s]\n"
     ]
    },
    {
     "name": "stdout",
     "output_type": "stream",
     "text": [
      "TP FP TN FN = 541 13 504 48\n",
      "f1: 0.9466316710411199\n",
      "recall: 0.9185059422750425\n",
      "precision: 0.9765342960288809\n"
     ]
    },
    {
     "name": "stderr",
     "output_type": "stream",
     "text": [
      "epoch 53: 100%|██████████████████████████████| 829/829 [00:01<00:00, 420.50it/s]\n",
      "100%|████████████████████████████████████████| 277/277 [00:00<00:00, 745.87it/s]\n"
     ]
    },
    {
     "name": "stdout",
     "output_type": "stream",
     "text": [
      "TP FP TN FN = 535 8 509 54\n",
      "f1: 0.9452296819787985\n",
      "recall: 0.9083191850594228\n",
      "precision: 0.9852670349907919\n"
     ]
    },
    {
     "name": "stderr",
     "output_type": "stream",
     "text": [
      "epoch 54: 100%|██████████████████████████████| 829/829 [00:01<00:00, 425.69it/s]\n",
      "100%|████████████████████████████████████████| 277/277 [00:00<00:00, 755.70it/s]\n"
     ]
    },
    {
     "name": "stdout",
     "output_type": "stream",
     "text": [
      "TP FP TN FN = 542 13 504 47\n",
      "f1: 0.9475524475524476\n",
      "recall: 0.9202037351443124\n",
      "precision: 0.9765765765765766\n"
     ]
    },
    {
     "name": "stderr",
     "output_type": "stream",
     "text": [
      "epoch 55: 100%|██████████████████████████████| 829/829 [00:02<00:00, 408.78it/s]\n",
      "100%|████████████████████████████████████████| 277/277 [00:00<00:00, 750.62it/s]\n"
     ]
    },
    {
     "name": "stdout",
     "output_type": "stream",
     "text": [
      "TP FP TN FN = 550 14 503 39\n",
      "f1: 0.9540329575021683\n",
      "recall: 0.933786078098472\n",
      "precision: 0.975177304964539\n"
     ]
    },
    {
     "name": "stderr",
     "output_type": "stream",
     "text": [
      "epoch 56: 100%|██████████████████████████████| 829/829 [00:01<00:00, 427.55it/s]\n",
      "100%|████████████████████████████████████████| 277/277 [00:00<00:00, 749.54it/s]\n"
     ]
    },
    {
     "name": "stdout",
     "output_type": "stream",
     "text": [
      "TP FP TN FN = 556 19 498 33\n",
      "f1: 0.9553264604810996\n",
      "recall: 0.9439728353140917\n",
      "precision: 0.9669565217391304\n"
     ]
    },
    {
     "name": "stderr",
     "output_type": "stream",
     "text": [
      "epoch 57: 100%|██████████████████████████████| 829/829 [00:02<00:00, 413.47it/s]\n",
      "100%|████████████████████████████████████████| 277/277 [00:00<00:00, 740.07it/s]\n"
     ]
    },
    {
     "name": "stdout",
     "output_type": "stream",
     "text": [
      "TP FP TN FN = 542 13 504 47\n",
      "f1: 0.9475524475524476\n",
      "recall: 0.9202037351443124\n",
      "precision: 0.9765765765765766\n"
     ]
    },
    {
     "name": "stderr",
     "output_type": "stream",
     "text": [
      "epoch 58: 100%|██████████████████████████████| 829/829 [00:02<00:00, 408.91it/s]\n",
      "100%|████████████████████████████████████████| 277/277 [00:00<00:00, 757.18it/s]\n"
     ]
    },
    {
     "name": "stdout",
     "output_type": "stream",
     "text": [
      "TP FP TN FN = 553 16 501 36\n",
      "f1: 0.9550949913644213\n",
      "recall: 0.9388794567062818\n",
      "precision: 0.9718804920913884\n"
     ]
    },
    {
     "name": "stderr",
     "output_type": "stream",
     "text": [
      "epoch 59: 100%|██████████████████████████████| 829/829 [00:01<00:00, 432.46it/s]\n",
      "100%|████████████████████████████████████████| 277/277 [00:00<00:00, 748.07it/s]\n"
     ]
    },
    {
     "name": "stdout",
     "output_type": "stream",
     "text": [
      "TP FP TN FN = 536 10 507 53\n",
      "f1: 0.9444933920704845\n",
      "recall: 0.9100169779286927\n",
      "precision: 0.9816849816849816\n"
     ]
    },
    {
     "name": "stderr",
     "output_type": "stream",
     "text": [
      "epoch 60: 100%|██████████████████████████████| 829/829 [00:01<00:00, 420.16it/s]\n",
      "100%|████████████████████████████████████████| 277/277 [00:00<00:00, 744.41it/s]\n"
     ]
    },
    {
     "name": "stdout",
     "output_type": "stream",
     "text": [
      "TP FP TN FN = 558 26 491 31\n",
      "f1: 0.9514066496163682\n",
      "recall: 0.9473684210526315\n",
      "precision: 0.9554794520547946\n"
     ]
    },
    {
     "name": "stderr",
     "output_type": "stream",
     "text": [
      "epoch 61: 100%|██████████████████████████████| 829/829 [00:01<00:00, 419.23it/s]\n",
      "100%|████████████████████████████████████████| 277/277 [00:00<00:00, 754.20it/s]\n"
     ]
    },
    {
     "name": "stdout",
     "output_type": "stream",
     "text": [
      "TP FP TN FN = 551 17 500 38\n",
      "f1: 0.9524632670700086\n",
      "recall: 0.9354838709677419\n",
      "precision: 0.9700704225352113\n"
     ]
    },
    {
     "name": "stderr",
     "output_type": "stream",
     "text": [
      "epoch 62: 100%|██████████████████████████████| 829/829 [00:01<00:00, 418.47it/s]\n",
      "100%|████████████████████████████████████████| 277/277 [00:00<00:00, 770.46it/s]\n"
     ]
    },
    {
     "name": "stdout",
     "output_type": "stream",
     "text": [
      "TP FP TN FN = 553 17 500 36\n",
      "f1: 0.9542709232096636\n",
      "recall: 0.9388794567062818\n",
      "precision: 0.9701754385964912\n"
     ]
    },
    {
     "name": "stderr",
     "output_type": "stream",
     "text": [
      "epoch 63: 100%|██████████████████████████████| 829/829 [00:01<00:00, 416.19it/s]\n",
      "100%|████████████████████████████████████████| 277/277 [00:00<00:00, 777.33it/s]\n"
     ]
    },
    {
     "name": "stdout",
     "output_type": "stream",
     "text": [
      "TP FP TN FN = 562 30 487 27\n",
      "f1: 0.951735817104149\n",
      "recall: 0.9541595925297114\n",
      "precision: 0.9493243243243243\n"
     ]
    },
    {
     "name": "stderr",
     "output_type": "stream",
     "text": [
      "epoch 64: 100%|██████████████████████████████| 829/829 [00:01<00:00, 430.12it/s]\n",
      "100%|████████████████████████████████████████| 277/277 [00:00<00:00, 759.29it/s]\n"
     ]
    },
    {
     "name": "stdout",
     "output_type": "stream",
     "text": [
      "TP FP TN FN = 547 14 503 42\n",
      "f1: 0.951304347826087\n",
      "recall: 0.9286926994906621\n",
      "precision: 0.9750445632798574\n"
     ]
    },
    {
     "name": "stderr",
     "output_type": "stream",
     "text": [
      "epoch 65: 100%|██████████████████████████████| 829/829 [00:02<00:00, 412.72it/s]\n",
      "100%|████████████████████████████████████████| 277/277 [00:00<00:00, 747.76it/s]\n"
     ]
    },
    {
     "name": "stdout",
     "output_type": "stream",
     "text": [
      "TP FP TN FN = 547 13 504 42\n",
      "f1: 0.9521322889469104\n",
      "recall: 0.9286926994906621\n",
      "precision: 0.9767857142857143\n"
     ]
    },
    {
     "name": "stderr",
     "output_type": "stream",
     "text": [
      "epoch 66: 100%|██████████████████████████████| 829/829 [00:01<00:00, 423.50it/s]\n",
      "100%|████████████████████████████████████████| 277/277 [00:00<00:00, 755.55it/s]\n"
     ]
    },
    {
     "name": "stdout",
     "output_type": "stream",
     "text": [
      "TP FP TN FN = 535 10 507 54\n",
      "f1: 0.9435626102292769\n",
      "recall: 0.9083191850594228\n",
      "precision: 0.981651376146789\n"
     ]
    },
    {
     "name": "stderr",
     "output_type": "stream",
     "text": [
      "epoch 67: 100%|██████████████████████████████| 829/829 [00:01<00:00, 425.75it/s]\n",
      "100%|████████████████████████████████████████| 277/277 [00:00<00:00, 776.94it/s]\n"
     ]
    },
    {
     "name": "stdout",
     "output_type": "stream",
     "text": [
      "TP FP TN FN = 553 17 500 36\n",
      "f1: 0.9542709232096636\n",
      "recall: 0.9388794567062818\n",
      "precision: 0.9701754385964912\n"
     ]
    },
    {
     "name": "stderr",
     "output_type": "stream",
     "text": [
      "epoch 68: 100%|██████████████████████████████| 829/829 [00:01<00:00, 418.17it/s]\n",
      "100%|████████████████████████████████████████| 277/277 [00:00<00:00, 749.99it/s]\n"
     ]
    },
    {
     "name": "stdout",
     "output_type": "stream",
     "text": [
      "TP FP TN FN = 557 21 496 32\n",
      "f1: 0.9545844044558699\n",
      "recall: 0.9456706281833617\n",
      "precision: 0.9636678200692042\n"
     ]
    },
    {
     "name": "stderr",
     "output_type": "stream",
     "text": [
      "epoch 69: 100%|██████████████████████████████| 829/829 [00:01<00:00, 419.60it/s]\n",
      "100%|████████████████████████████████████████| 277/277 [00:00<00:00, 758.39it/s]\n"
     ]
    },
    {
     "name": "stdout",
     "output_type": "stream",
     "text": [
      "TP FP TN FN = 548 13 504 41\n",
      "f1: 0.9530434782608694\n",
      "recall: 0.9303904923599321\n",
      "precision: 0.9768270944741533\n"
     ]
    },
    {
     "name": "stderr",
     "output_type": "stream",
     "text": [
      "epoch 70: 100%|██████████████████████████████| 829/829 [00:01<00:00, 417.75it/s]\n",
      "100%|████████████████████████████████████████| 277/277 [00:00<00:00, 742.33it/s]\n"
     ]
    },
    {
     "name": "stdout",
     "output_type": "stream",
     "text": [
      "TP FP TN FN = 552 18 499 37\n",
      "f1: 0.9525452976704056\n",
      "recall: 0.9371816638370118\n",
      "precision: 0.968421052631579\n"
     ]
    },
    {
     "name": "stderr",
     "output_type": "stream",
     "text": [
      "epoch 71: 100%|██████████████████████████████| 829/829 [00:01<00:00, 425.68it/s]\n",
      "100%|████████████████████████████████████████| 277/277 [00:00<00:00, 755.17it/s]\n"
     ]
    },
    {
     "name": "stdout",
     "output_type": "stream",
     "text": [
      "TP FP TN FN = 542 12 505 47\n",
      "f1: 0.9483814523184602\n",
      "recall: 0.9202037351443124\n",
      "precision: 0.9783393501805054\n"
     ]
    },
    {
     "name": "stderr",
     "output_type": "stream",
     "text": [
      "epoch 72: 100%|██████████████████████████████| 829/829 [00:02<00:00, 412.03it/s]\n",
      "100%|████████████████████████████████████████| 277/277 [00:00<00:00, 722.23it/s]\n"
     ]
    },
    {
     "name": "stdout",
     "output_type": "stream",
     "text": [
      "TP FP TN FN = 551 14 503 38\n",
      "f1: 0.9549393414211438\n",
      "recall: 0.9354838709677419\n",
      "precision: 0.9752212389380531\n"
     ]
    },
    {
     "name": "stderr",
     "output_type": "stream",
     "text": [
      "epoch 73: 100%|██████████████████████████████| 829/829 [00:02<00:00, 403.02it/s]\n",
      "100%|████████████████████████████████████████| 277/277 [00:00<00:00, 731.85it/s]\n"
     ]
    },
    {
     "name": "stdout",
     "output_type": "stream",
     "text": [
      "TP FP TN FN = 540 10 507 49\n",
      "f1: 0.9482001755926251\n",
      "recall: 0.9168081494057725\n",
      "precision: 0.9818181818181818\n"
     ]
    },
    {
     "name": "stderr",
     "output_type": "stream",
     "text": [
      "epoch 74: 100%|██████████████████████████████| 829/829 [00:01<00:00, 415.83it/s]\n",
      "100%|████████████████████████████████████████| 277/277 [00:00<00:00, 743.66it/s]\n"
     ]
    },
    {
     "name": "stdout",
     "output_type": "stream",
     "text": [
      "TP FP TN FN = 554 18 499 35\n",
      "f1: 0.954349698535745\n",
      "recall: 0.9405772495755518\n",
      "precision: 0.9685314685314685\n"
     ]
    },
    {
     "name": "stderr",
     "output_type": "stream",
     "text": [
      "epoch 75: 100%|██████████████████████████████| 829/829 [00:02<00:00, 413.91it/s]\n",
      "100%|████████████████████████████████████████| 277/277 [00:00<00:00, 730.74it/s]\n"
     ]
    },
    {
     "name": "stdout",
     "output_type": "stream",
     "text": [
      "TP FP TN FN = 554 16 501 35\n",
      "f1: 0.9559965487489215\n",
      "recall: 0.9405772495755518\n",
      "precision: 0.9719298245614035\n"
     ]
    },
    {
     "name": "stderr",
     "output_type": "stream",
     "text": [
      "epoch 76: 100%|██████████████████████████████| 829/829 [00:02<00:00, 412.10it/s]\n",
      "100%|████████████████████████████████████████| 277/277 [00:00<00:00, 740.83it/s]\n"
     ]
    },
    {
     "name": "stdout",
     "output_type": "stream",
     "text": [
      "TP FP TN FN = 563 36 481 26\n",
      "f1: 0.9478114478114478\n",
      "recall: 0.9558573853989814\n",
      "precision: 0.9398998330550918\n"
     ]
    },
    {
     "name": "stderr",
     "output_type": "stream",
     "text": [
      "epoch 77: 100%|██████████████████████████████| 829/829 [00:02<00:00, 404.80it/s]\n",
      "100%|████████████████████████████████████████| 277/277 [00:00<00:00, 732.69it/s]\n"
     ]
    },
    {
     "name": "stdout",
     "output_type": "stream",
     "text": [
      "TP FP TN FN = 546 12 505 43\n",
      "f1: 0.9520488230165648\n",
      "recall: 0.9269949066213922\n",
      "precision: 0.978494623655914\n"
     ]
    },
    {
     "name": "stderr",
     "output_type": "stream",
     "text": [
      "epoch 78: 100%|██████████████████████████████| 829/829 [00:02<00:00, 408.10it/s]\n",
      "100%|████████████████████████████████████████| 277/277 [00:00<00:00, 756.07it/s]\n"
     ]
    },
    {
     "name": "stdout",
     "output_type": "stream",
     "text": [
      "TP FP TN FN = 553 16 501 36\n",
      "f1: 0.9550949913644213\n",
      "recall: 0.9388794567062818\n",
      "precision: 0.9718804920913884\n"
     ]
    },
    {
     "name": "stderr",
     "output_type": "stream",
     "text": [
      "epoch 79: 100%|██████████████████████████████| 829/829 [00:02<00:00, 407.89it/s]\n",
      "100%|████████████████████████████████████████| 277/277 [00:00<00:00, 740.29it/s]\n"
     ]
    },
    {
     "name": "stdout",
     "output_type": "stream",
     "text": [
      "TP FP TN FN = 544 12 505 45\n",
      "f1: 0.9502183406113537\n",
      "recall: 0.9235993208828522\n",
      "precision: 0.9784172661870504\n"
     ]
    },
    {
     "name": "stderr",
     "output_type": "stream",
     "text": [
      "epoch 80: 100%|██████████████████████████████| 829/829 [00:02<00:00, 407.14it/s]\n",
      "100%|████████████████████████████████████████| 277/277 [00:00<00:00, 779.33it/s]\n"
     ]
    },
    {
     "name": "stdout",
     "output_type": "stream",
     "text": [
      "TP FP TN FN = 557 23 494 32\n",
      "f1: 0.95295124037639\n",
      "recall: 0.9456706281833617\n",
      "precision: 0.9603448275862069\n"
     ]
    },
    {
     "name": "stderr",
     "output_type": "stream",
     "text": [
      "epoch 81: 100%|██████████████████████████████| 829/829 [00:02<00:00, 403.30it/s]\n",
      "100%|████████████████████████████████████████| 277/277 [00:00<00:00, 722.70it/s]\n"
     ]
    },
    {
     "name": "stdout",
     "output_type": "stream",
     "text": [
      "TP FP TN FN = 553 18 499 36\n",
      "f1: 0.9534482758620689\n",
      "recall: 0.9388794567062818\n",
      "precision: 0.968476357267951\n"
     ]
    },
    {
     "name": "stderr",
     "output_type": "stream",
     "text": [
      "epoch 82: 100%|██████████████████████████████| 829/829 [00:01<00:00, 416.80it/s]\n",
      "100%|████████████████████████████████████████| 277/277 [00:00<00:00, 762.28it/s]\n"
     ]
    },
    {
     "name": "stdout",
     "output_type": "stream",
     "text": [
      "TP FP TN FN = 556 20 497 33\n",
      "f1: 0.9545064377682404\n",
      "recall: 0.9439728353140917\n",
      "precision: 0.9652777777777778\n"
     ]
    },
    {
     "name": "stderr",
     "output_type": "stream",
     "text": [
      "epoch 83: 100%|██████████████████████████████| 829/829 [00:01<00:00, 415.54it/s]\n",
      "100%|████████████████████████████████████████| 277/277 [00:00<00:00, 724.10it/s]\n"
     ]
    },
    {
     "name": "stdout",
     "output_type": "stream",
     "text": [
      "TP FP TN FN = 542 10 507 47\n",
      "f1: 0.9500438212094653\n",
      "recall: 0.9202037351443124\n",
      "precision: 0.9818840579710145\n"
     ]
    },
    {
     "name": "stderr",
     "output_type": "stream",
     "text": [
      "epoch 84: 100%|██████████████████████████████| 829/829 [00:01<00:00, 420.98it/s]\n",
      "100%|████████████████████████████████████████| 277/277 [00:00<00:00, 740.02it/s]\n"
     ]
    },
    {
     "name": "stdout",
     "output_type": "stream",
     "text": [
      "TP FP TN FN = 550 12 505 39\n",
      "f1: 0.9556907037358818\n",
      "recall: 0.933786078098472\n",
      "precision: 0.9786476868327402\n"
     ]
    },
    {
     "name": "stderr",
     "output_type": "stream",
     "text": [
      "epoch 85: 100%|██████████████████████████████| 829/829 [00:01<00:00, 433.99it/s]\n",
      "100%|████████████████████████████████████████| 277/277 [00:00<00:00, 735.98it/s]\n"
     ]
    },
    {
     "name": "stdout",
     "output_type": "stream",
     "text": [
      "TP FP TN FN = 535 9 508 54\n",
      "f1: 0.9443954104148279\n",
      "recall: 0.9083191850594228\n",
      "precision: 0.9834558823529411\n"
     ]
    },
    {
     "name": "stderr",
     "output_type": "stream",
     "text": [
      "epoch 86: 100%|██████████████████████████████| 829/829 [00:01<00:00, 415.39it/s]\n",
      "100%|████████████████████████████████████████| 277/277 [00:00<00:00, 731.29it/s]\n"
     ]
    },
    {
     "name": "stdout",
     "output_type": "stream",
     "text": [
      "TP FP TN FN = 556 20 497 33\n",
      "f1: 0.9545064377682404\n",
      "recall: 0.9439728353140917\n",
      "precision: 0.9652777777777778\n"
     ]
    },
    {
     "name": "stderr",
     "output_type": "stream",
     "text": [
      "epoch 87: 100%|██████████████████████████████| 829/829 [00:01<00:00, 420.81it/s]\n",
      "100%|████████████████████████████████████████| 277/277 [00:00<00:00, 734.51it/s]\n"
     ]
    },
    {
     "name": "stdout",
     "output_type": "stream",
     "text": [
      "TP FP TN FN = 550 14 503 39\n",
      "f1: 0.9540329575021683\n",
      "recall: 0.933786078098472\n",
      "precision: 0.975177304964539\n"
     ]
    },
    {
     "name": "stderr",
     "output_type": "stream",
     "text": [
      "epoch 88: 100%|██████████████████████████████| 829/829 [00:01<00:00, 416.94it/s]\n",
      "100%|████████████████████████████████████████| 277/277 [00:00<00:00, 739.79it/s]\n"
     ]
    },
    {
     "name": "stdout",
     "output_type": "stream",
     "text": [
      "TP FP TN FN = 545 13 504 44\n",
      "f1: 0.9503051438535308\n",
      "recall: 0.9252971137521222\n",
      "precision: 0.9767025089605734\n"
     ]
    },
    {
     "name": "stderr",
     "output_type": "stream",
     "text": [
      "epoch 89: 100%|██████████████████████████████| 829/829 [00:01<00:00, 428.46it/s]\n",
      "100%|████████████████████████████████████████| 277/277 [00:00<00:00, 760.92it/s]\n"
     ]
    },
    {
     "name": "stdout",
     "output_type": "stream",
     "text": [
      "TP FP TN FN = 536 9 508 53\n",
      "f1: 0.9453262786596119\n",
      "recall: 0.9100169779286927\n",
      "precision: 0.9834862385321101\n"
     ]
    },
    {
     "name": "stderr",
     "output_type": "stream",
     "text": [
      "epoch 90: 100%|██████████████████████████████| 829/829 [00:01<00:00, 414.81it/s]\n",
      "100%|████████████████████████████████████████| 277/277 [00:00<00:00, 729.22it/s]\n"
     ]
    },
    {
     "name": "stdout",
     "output_type": "stream",
     "text": [
      "TP FP TN FN = 561 36 481 28\n",
      "f1: 0.9460370994940978\n",
      "recall: 0.9524617996604414\n",
      "precision: 0.9396984924623115\n"
     ]
    },
    {
     "name": "stderr",
     "output_type": "stream",
     "text": [
      "epoch 91: 100%|██████████████████████████████| 829/829 [00:01<00:00, 435.87it/s]\n",
      "100%|████████████████████████████████████████| 277/277 [00:00<00:00, 730.98it/s]\n"
     ]
    },
    {
     "name": "stdout",
     "output_type": "stream",
     "text": [
      "TP FP TN FN = 537 9 508 52\n",
      "f1: 0.9462555066079295\n",
      "recall: 0.9117147707979627\n",
      "precision: 0.9835164835164835\n"
     ]
    },
    {
     "name": "stderr",
     "output_type": "stream",
     "text": [
      "epoch 92: 100%|██████████████████████████████| 829/829 [00:01<00:00, 417.17it/s]\n",
      "100%|████████████████████████████████████████| 277/277 [00:00<00:00, 747.91it/s]\n"
     ]
    },
    {
     "name": "stdout",
     "output_type": "stream",
     "text": [
      "TP FP TN FN = 554 17 500 35\n",
      "f1: 0.9551724137931035\n",
      "recall: 0.9405772495755518\n",
      "precision: 0.9702276707530648\n"
     ]
    },
    {
     "name": "stderr",
     "output_type": "stream",
     "text": [
      "epoch 93: 100%|██████████████████████████████| 829/829 [00:02<00:00, 412.92it/s]\n",
      "100%|████████████████████████████████████████| 277/277 [00:00<00:00, 776.00it/s]\n"
     ]
    },
    {
     "name": "stdout",
     "output_type": "stream",
     "text": [
      "TP FP TN FN = 554 20 497 35\n",
      "f1: 0.9527085124677558\n",
      "recall: 0.9405772495755518\n",
      "precision: 0.9651567944250871\n"
     ]
    },
    {
     "name": "stderr",
     "output_type": "stream",
     "text": [
      "epoch 94: 100%|██████████████████████████████| 829/829 [00:01<00:00, 416.79it/s]\n",
      "100%|████████████████████████████████████████| 277/277 [00:00<00:00, 747.54it/s]\n"
     ]
    },
    {
     "name": "stdout",
     "output_type": "stream",
     "text": [
      "TP FP TN FN = 557 20 497 32\n",
      "f1: 0.9554030874785592\n",
      "recall: 0.9456706281833617\n",
      "precision: 0.9653379549393414\n"
     ]
    },
    {
     "name": "stderr",
     "output_type": "stream",
     "text": [
      "epoch 95: 100%|██████████████████████████████| 829/829 [00:02<00:00, 413.23it/s]\n",
      "100%|████████████████████████████████████████| 277/277 [00:00<00:00, 752.56it/s]\n"
     ]
    },
    {
     "name": "stdout",
     "output_type": "stream",
     "text": [
      "TP FP TN FN = 548 13 504 41\n",
      "f1: 0.9530434782608694\n",
      "recall: 0.9303904923599321\n",
      "precision: 0.9768270944741533\n"
     ]
    },
    {
     "name": "stderr",
     "output_type": "stream",
     "text": [
      "epoch 96: 100%|██████████████████████████████| 829/829 [00:02<00:00, 402.05it/s]\n",
      "100%|████████████████████████████████████████| 277/277 [00:00<00:00, 706.48it/s]\n"
     ]
    },
    {
     "name": "stdout",
     "output_type": "stream",
     "text": [
      "TP FP TN FN = 560 29 488 29\n",
      "f1: 0.9507640067911715\n",
      "recall: 0.9507640067911715\n",
      "precision: 0.9507640067911715\n"
     ]
    },
    {
     "name": "stderr",
     "output_type": "stream",
     "text": [
      "epoch 97: 100%|██████████████████████████████| 829/829 [00:01<00:00, 420.43it/s]\n",
      "100%|████████████████████████████████████████| 277/277 [00:00<00:00, 768.04it/s]\n"
     ]
    },
    {
     "name": "stdout",
     "output_type": "stream",
     "text": [
      "TP FP TN FN = 554 17 500 35\n",
      "f1: 0.9551724137931035\n",
      "recall: 0.9405772495755518\n",
      "precision: 0.9702276707530648\n"
     ]
    },
    {
     "name": "stderr",
     "output_type": "stream",
     "text": [
      "epoch 98: 100%|██████████████████████████████| 829/829 [00:01<00:00, 421.88it/s]\n",
      "100%|████████████████████████████████████████| 277/277 [00:00<00:00, 758.63it/s]\n"
     ]
    },
    {
     "name": "stdout",
     "output_type": "stream",
     "text": [
      "TP FP TN FN = 551 14 503 38\n",
      "f1: 0.9549393414211438\n",
      "recall: 0.9354838709677419\n",
      "precision: 0.9752212389380531\n"
     ]
    },
    {
     "name": "stderr",
     "output_type": "stream",
     "text": [
      "epoch 99: 100%|██████████████████████████████| 829/829 [00:01<00:00, 429.18it/s]\n",
      "100%|████████████████████████████████████████| 277/277 [00:00<00:00, 769.85it/s]"
     ]
    },
    {
     "name": "stdout",
     "output_type": "stream",
     "text": [
      "TP FP TN FN = 551 14 503 38\n",
      "f1: 0.9549393414211438\n",
      "recall: 0.9354838709677419\n",
      "precision: 0.9752212389380531\n"
     ]
    },
    {
     "name": "stderr",
     "output_type": "stream",
     "text": [
      "\n"
     ]
    }
   ],
   "source": [
    "def evaluate(model, epoch_id):\n",
    "    y_trues = []\n",
    "    y_preds = []\n",
    "    bar = tqdm(test_dataloader, total = len(test_dataloader))\n",
    "    for data in bar:\n",
    "        x, labels = data\n",
    "        x = x.to(args.device)\n",
    "        labels = labels.to(args.device)\n",
    "        model.eval()\n",
    "        with torch.no_grad():\n",
    "            prob = model(x).view(-1)\n",
    "            y_preds.append((prob > 0.5).long().cpu().numpy())\n",
    "            y_trues.append(labels.long().view(-1).cpu().numpy())\n",
    "    y_trues = np.concatenate(y_trues, 0)\n",
    "    y_preds = np.concatenate(y_preds, 0)\n",
    "    TP = sum([x == 1 and y == 1 for x, y in zip(y_trues, y_preds)])\n",
    "    FP = sum([x == 0 and y == 1 for x, y in zip(y_trues, y_preds)])\n",
    "    TN = sum([x == 0 and y == 0 for x, y in zip(y_trues, y_preds)])\n",
    "    FN = sum([x == 1 and y == 0 for x, y in zip(y_trues, y_preds)])\n",
    "    print('TP FP TN FN =', TP, FP, TN, FN)\n",
    "\n",
    "    f1 = float(f1_score(y_trues, y_preds))\n",
    "    rs = float(recall_score(y_trues, y_preds))\n",
    "    ps = float(precision_score(y_trues, y_preds))\n",
    "    print('f1:', f1)\n",
    "    print('recall:', rs)\n",
    "    print('precision:', ps)\n",
    "#     os.system('mkdir -p result')\n",
    "#     f = open('result/baseline' + str(args.current_topic).zfill(2) + '-' + str(epoch_id).zfill(3) + '.txt', 'w')\n",
    "#     print(f1, file = f)\n",
    "#     f.close()\n",
    "#     return f1\n",
    "\n",
    "model = Model()\n",
    "model.to(args.device)\n",
    "if args.n_gpu > 1:\n",
    "    model = torch.nn.DataParallel(model)\n",
    "optimizer = torch.optim.Adam(model.parameters(), lr = args.learning_rate)\n",
    "\n",
    "for epoch_num in range(args.epochs):\n",
    "    bar = tqdm(train_dataloader, total = len(train_dataloader))\n",
    "    for data in bar:\n",
    "        x, labels = data\n",
    "        x = x.to(args.device)\n",
    "        labels = labels.to(args.device)\n",
    "        model.train()\n",
    "        loss = model(x, labels)\n",
    "        if args.n_gpu > 1:\n",
    "            loss = loss.mean()\n",
    "        loss.backward()\n",
    "        bar.set_description(\"epoch {}\".format(epoch_num))\n",
    "        optimizer.step()\n",
    "        optimizer.zero_grad()\n",
    "    evaluate(model, epoch_num)"
   ]
  },
  {
   "cell_type": "code",
   "execution_count": null,
   "metadata": {},
   "outputs": [],
   "source": []
  },
  {
   "cell_type": "code",
   "execution_count": null,
   "metadata": {},
   "outputs": [],
   "source": []
  }
 ],
 "metadata": {
  "kernelspec": {
   "display_name": "Python 3 (ipykernel)",
   "language": "python",
   "name": "python3"
  },
  "language_info": {
   "codemirror_mode": {
    "name": "ipython",
    "version": 3
   },
   "file_extension": ".py",
   "mimetype": "text/x-python",
   "name": "python",
   "nbconvert_exporter": "python",
   "pygments_lexer": "ipython3",
   "version": "3.8.10"
  }
 },
 "nbformat": 4,
 "nbformat_minor": 4
}
