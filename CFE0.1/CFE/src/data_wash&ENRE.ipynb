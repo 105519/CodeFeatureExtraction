{
 "cells": [
  {
   "cell_type": "code",
   "execution_count": 1,
   "metadata": {},
   "outputs": [],
   "source": [
    "import os\n",
    "import tokenize\n",
    "import multiprocessing\n",
    "from tqdm import tqdm"
   ]
  },
  {
   "cell_type": "code",
   "execution_count": 2,
   "metadata": {},
   "outputs": [],
   "source": [
    "project_list = []\n",
    "os.system('rm -r ../py150_files/structure/')\n",
    "os.system('mkdir -p ../py150_files/structure/')\n",
    "for dir1 in os.listdir('../py150_files/data/'):\n",
    "    assert(os.path.isdir('../py150_files/data/' + dir1))\n",
    "    os.system('mkdir -p ../py150_files/structure/' + dir1)\n",
    "    for dir2 in os.listdir('../py150_files/data/' + dir1):\n",
    "        assert(os.path.isdir('../py150_files/data/' + dir1 + '/' + dir2))\n",
    "        os.system('mkdir -p ../py150_files/structure/' + dir1 + '/' + dir2)\n",
    "        project_list.append(dir1 + '/' + dir2)"
   ]
  },
  {
   "cell_type": "code",
   "execution_count": null,
   "metadata": {},
   "outputs": [],
   "source": [
    "def wash_file(path):\n",
    "    input_file = open(path, encoding = \"iso-8859-1\")\n",
    "    code = input_file.read()\n",
    "    input_file.close()\n",
    "    \n",
    "    output_file = open(path, 'w')\n",
    "    print(code, file = output_file)\n",
    "    output_file.close()\n",
    "\n",
    "def wash_directory(path):\n",
    "    if (os.path.isdir(path)):\n",
    "        for filename in os.listdir(path):\n",
    "            wash_directory(path + '/' + filename)\n",
    "    else:\n",
    "        assert(os.path.isfile(path))\n",
    "        assert(path[-3 :] == '.py')\n",
    "        wash_file(path)\n",
    "\n",
    "for project in tqdm(project_list, total=len(project_list)):\n",
    "    wash_directory('../py150_files/data/' + project)"
   ]
  },
  {
   "cell_type": "code",
   "execution_count": 3,
   "metadata": {},
   "outputs": [
    {
     "name": "stderr",
     "output_type": "stream",
     "text": [
      "100%|█████████████████████████████████████| 8422/8422 [2:41:22<00:00,  1.15s/it]\n"
     ]
    }
   ],
   "source": [
    "fail_list = []\n",
    "for project in tqdm(project_list, total = len(project_list)):\n",
    "    if (os.system('java -jar enre-experiment.jar python ' + '../py150_files/data/' + project + ' null tmp' + ' >/dev/null 2>&1') == 0):\n",
    "        assert(os.system('cp tmp/tmp_node.csv ../py150_files/structure/' + project + '/node.txt') == 0)\n",
    "        assert(os.system('cp tmp/tmp_edge.csv ../py150_files/structure/' + project + '/edge.txt') == 0)\n",
    "        os.system('rm tmp -r')\n",
    "    else:\n",
    "        assert(os.system('rm ../py150_files/structure/' + project + ' -r') == 0)\n",
    "        fail_list.append(project)\n",
    "\n",
    "# pool = multiprocessing.Pool(processes = 11)\n",
    "# fail_list = []\n",
    "# for project in project_list:\n",
    "#     pool.apply_async(ENRE, (project,))\n",
    "# pool.close()\n",
    "# pool.join()"
   ]
  }
 ],
 "metadata": {
  "kernelspec": {
   "display_name": "Python 3 (ipykernel)",
   "language": "python",
   "name": "python3"
  },
  "language_info": {
   "codemirror_mode": {
    "name": "ipython",
    "version": 3
   },
   "file_extension": ".py",
   "mimetype": "text/x-python",
   "name": "python",
   "nbconvert_exporter": "python",
   "pygments_lexer": "ipython3",
   "version": "3.8.10"
  }
 },
 "nbformat": 4,
 "nbformat_minor": 4
}
