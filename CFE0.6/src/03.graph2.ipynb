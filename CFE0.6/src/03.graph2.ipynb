{
 "cells": [
  {
   "cell_type": "code",
   "execution_count": 1,
   "metadata": {},
   "outputs": [],
   "source": [
    "import os\n",
    "os.environ['CUDA_VISIBLE_DEVICES'] = '2'\n",
    "import json\n",
    "from tqdm import tqdm\n",
    "# from sentence_transformers import SentenceTransformer\n",
    "# sentence_model = SentenceTransformer('all-MiniLM-L6-v2')\n",
    "\n",
    "f = open('../data/graphs.jsonl', 'r')\n",
    "graphs = json.loads(f.readline())\n",
    "f.close()"
   ]
  },
  {
   "cell_type": "code",
   "execution_count": 2,
   "metadata": {
    "scrolled": true
   },
   "outputs": [
    {
     "name": "stderr",
     "output_type": "stream",
     "text": [
      "100%|██████████████████████████████████████████████████████████████████████████████████████████████████████████████████████████████████████████████████████████████████| 12272/12272 [00:02<00:00, 5385.69it/s]\n"
     ]
    }
   ],
   "source": [
    "graphs2 = []\n",
    "for V, E in tqdm(graphs):\n",
    "    nodes = [0] * 200\n",
    "#     nodes = sentence_model.encode(V).tolist()\n",
    "    edges = [[] for t in range(200)]\n",
    "    for u, v in E:\n",
    "        edges[u].append(v)\n",
    "    graphs2.append([nodes, edges])"
   ]
  },
  {
   "cell_type": "code",
   "execution_count": 3,
   "metadata": {},
   "outputs": [],
   "source": [
    "f = open('../data/graphs2.jsonl', 'w')\n",
    "json.dump([y for x, y in graphs2], fp = f)\n",
    "f.close()"
   ]
  },
  {
   "cell_type": "code",
   "execution_count": 4,
   "metadata": {},
   "outputs": [],
   "source": [
    "exit()"
   ]
  }
 ],
 "metadata": {
  "kernelspec": {
   "display_name": "heyuxuan",
   "language": "python",
   "name": "heyuxuan"
  },
  "language_info": {
   "codemirror_mode": {
    "name": "ipython",
    "version": 3
   },
   "file_extension": ".py",
   "mimetype": "text/x-python",
   "name": "python",
   "nbconvert_exporter": "python",
   "pygments_lexer": "ipython3",
   "version": "3.9.6"
  }
 },
 "nbformat": 4,
 "nbformat_minor": 4
}
