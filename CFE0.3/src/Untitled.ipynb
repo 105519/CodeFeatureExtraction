{
 "cells": [
  {
   "cell_type": "code",
   "execution_count": 12,
   "metadata": {},
   "outputs": [
    {
     "name": "stdout",
     "output_type": "stream",
     "text": [
      "R: 0.8461538461538461\n",
      "P: 0.12087912087912088\n",
      "f1: 0.21153846153846154\n",
      "f1: 0.585279475646792\n",
      "f1: 0.9220902612826604\n"
     ]
    }
   ],
   "source": [
    "from sklearn.metrics import recall_score, precision_score, f1_score\n",
    "TP = 22\n",
    "FP = 160\n",
    "TN = 1919\n",
    "FN = 4\n",
    "y_trues = [1] * TP + [0] * FP + [0] * TN + [1] * FN\n",
    "y_preds = [1] * TP + [1] * FP + [0] * TN + [0] * FN\n",
    "print('R:', float(recall_score(y_trues, y_preds)))\n",
    "print('P:', float(precision_score(y_trues, y_preds)))\n",
    "print('f1:', float(f1_score(y_trues, y_preds)))\n",
    "print('f1:', float(f1_score(y_trues, y_preds, average = 'macro')))\n",
    "print('f1:', float(f1_score(y_trues, y_preds, average = 'micro')))"
   ]
  },
  {
   "cell_type": "code",
   "execution_count": 22,
   "metadata": {},
   "outputs": [
    {
     "name": "stdout",
     "output_type": "stream",
     "text": [
      "R: 0.923039923039923\n",
      "P: 0.9979199167966719\n",
      "f1: 0.9590204897551224\n",
      "f1: 0.585279475646792\n",
      "f1: 0.9220902612826604\n"
     ]
    }
   ],
   "source": [
    "y_trues = [1 - x for x in y_trues]\n",
    "y_preds = [1 - x for x in y_preds]\n",
    "print('R:', float(recall_score(y_trues, y_preds)))\n",
    "print('P:', float(precision_score(y_trues, y_preds)))\n",
    "print('f1:', float(f1_score(y_trues, y_preds)))\n",
    "print('f1:', float(f1_score(y_trues, y_preds, average = 'macro')))\n",
    "print('f1:', float(f1_score(y_trues, y_preds, average = 'micro')))"
   ]
  },
  {
   "cell_type": "code",
   "execution_count": 21,
   "metadata": {},
   "outputs": [
    {
     "name": "stdout",
     "output_type": "stream",
     "text": [
      "0.546031746031746\n",
      "0.5555555555555556\n",
      "0.8333333333333333\n",
      "0.75\n",
      "0.7777777777777778\n"
     ]
    }
   ],
   "source": [
    "print(f1_score([0,0,0,0,1,1,1,2,2], [0,0,1,2,1,1,2,1,2],average=\"macro\"))\n",
    "print(f1_score([0,0,0,0,1,1,1,2,2], [0,0,1,2,1,1,2,1,2],average=\"micro\"))\n",
    "print(f1_score([0,0,0,0,1,1,1,1,1], [0,0,1,1,1,1,1,1,1]))\n",
    "print(f1_score([0,0,0,0,1,1,1,1,1], [0,0,1,1,1,1,1,1,1],average=\"macro\"))\n",
    "print(f1_score([0,0,0,0,1,1,1,1,1], [0,0,1,1,1,1,1,1,1],average=\"micro\"))"
   ]
  }
 ],
 "metadata": {
  "kernelspec": {
   "display_name": "Python 3 (ipykernel)",
   "language": "python",
   "name": "python3"
  },
  "language_info": {
   "codemirror_mode": {
    "name": "ipython",
    "version": 3
   },
   "file_extension": ".py",
   "mimetype": "text/x-python",
   "name": "python",
   "nbconvert_exporter": "python",
   "pygments_lexer": "ipython3",
   "version": "3.8.10"
  }
 },
 "nbformat": 4,
 "nbformat_minor": 4
}
